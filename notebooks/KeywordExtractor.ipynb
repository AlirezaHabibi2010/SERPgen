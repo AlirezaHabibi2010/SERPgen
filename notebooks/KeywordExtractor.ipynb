{
 "cells": [
  {
   "cell_type": "markdown",
   "id": "bb00f493",
   "metadata": {},
   "source": [
    "## Imports"
   ]
  },
  {
   "cell_type": "code",
   "execution_count": 6,
   "id": "910dcc37",
   "metadata": {
    "collapsed": true
   },
   "outputs": [
    {
     "name": "stdout",
     "output_type": "stream",
     "text": [
      "Requirement already satisfied: spacy-transformers in /home/tomvanilla/.pyenv/versions/3.8.12/envs/SERPvenv/lib/python3.8/site-packages (1.1.5)\n",
      "Requirement already satisfied: spacy-alignments<1.0.0,>=0.7.2 in /home/tomvanilla/.pyenv/versions/3.8.12/envs/SERPvenv/lib/python3.8/site-packages (from spacy-transformers) (0.8.5)\n",
      "Requirement already satisfied: spacy<4.0.0,>=3.1.3 in /home/tomvanilla/.pyenv/versions/3.8.12/envs/SERPvenv/lib/python3.8/site-packages (from spacy-transformers) (3.3.0)\n",
      "Requirement already satisfied: transformers<4.18.0,>=3.4.0 in /home/tomvanilla/.pyenv/versions/3.8.12/envs/SERPvenv/lib/python3.8/site-packages (from spacy-transformers) (4.17.0)\n",
      "Requirement already satisfied: torch>=1.6.0 in /home/tomvanilla/.pyenv/versions/3.8.12/envs/SERPvenv/lib/python3.8/site-packages (from spacy-transformers) (1.11.0)\n",
      "Requirement already satisfied: srsly<3.0.0,>=2.4.0 in /home/tomvanilla/.pyenv/versions/3.8.12/envs/SERPvenv/lib/python3.8/site-packages (from spacy-transformers) (2.4.3)\n",
      "Requirement already satisfied: langcodes<4.0.0,>=3.2.0 in /home/tomvanilla/.pyenv/versions/3.8.12/envs/SERPvenv/lib/python3.8/site-packages (from spacy<4.0.0,>=3.1.3->spacy-transformers) (3.3.0)\n",
      "Requirement already satisfied: packaging>=20.0 in /home/tomvanilla/.pyenv/versions/3.8.12/envs/SERPvenv/lib/python3.8/site-packages (from spacy<4.0.0,>=3.1.3->spacy-transformers) (21.3)\n",
      "Requirement already satisfied: tqdm<5.0.0,>=4.38.0 in /home/tomvanilla/.pyenv/versions/3.8.12/envs/SERPvenv/lib/python3.8/site-packages (from spacy<4.0.0,>=3.1.3->spacy-transformers) (4.64.0)\n",
      "Requirement already satisfied: wasabi<1.1.0,>=0.9.1 in /home/tomvanilla/.pyenv/versions/3.8.12/envs/SERPvenv/lib/python3.8/site-packages (from spacy<4.0.0,>=3.1.3->spacy-transformers) (0.9.1)\n",
      "Requirement already satisfied: jinja2 in /home/tomvanilla/.pyenv/versions/3.8.12/envs/SERPvenv/lib/python3.8/site-packages (from spacy<4.0.0,>=3.1.3->spacy-transformers) (3.1.2)\n",
      "Requirement already satisfied: spacy-legacy<3.1.0,>=3.0.9 in /home/tomvanilla/.pyenv/versions/3.8.12/envs/SERPvenv/lib/python3.8/site-packages (from spacy<4.0.0,>=3.1.3->spacy-transformers) (3.0.9)\n",
      "Requirement already satisfied: murmurhash<1.1.0,>=0.28.0 in /home/tomvanilla/.pyenv/versions/3.8.12/envs/SERPvenv/lib/python3.8/site-packages (from spacy<4.0.0,>=3.1.3->spacy-transformers) (1.0.7)\n",
      "Requirement already satisfied: typer<0.5.0,>=0.3.0 in /home/tomvanilla/.pyenv/versions/3.8.12/envs/SERPvenv/lib/python3.8/site-packages (from spacy<4.0.0,>=3.1.3->spacy-transformers) (0.4.1)\n",
      "Requirement already satisfied: requests<3.0.0,>=2.13.0 in /home/tomvanilla/.pyenv/versions/3.8.12/envs/SERPvenv/lib/python3.8/site-packages (from spacy<4.0.0,>=3.1.3->spacy-transformers) (2.27.1)\n",
      "Requirement already satisfied: thinc<8.1.0,>=8.0.14 in /home/tomvanilla/.pyenv/versions/3.8.12/envs/SERPvenv/lib/python3.8/site-packages (from spacy<4.0.0,>=3.1.3->spacy-transformers) (8.0.16)\n",
      "Requirement already satisfied: preshed<3.1.0,>=3.0.2 in /home/tomvanilla/.pyenv/versions/3.8.12/envs/SERPvenv/lib/python3.8/site-packages (from spacy<4.0.0,>=3.1.3->spacy-transformers) (3.0.6)\n",
      "Requirement already satisfied: pathy>=0.3.5 in /home/tomvanilla/.pyenv/versions/3.8.12/envs/SERPvenv/lib/python3.8/site-packages (from spacy<4.0.0,>=3.1.3->spacy-transformers) (0.6.1)\n",
      "Requirement already satisfied: pydantic!=1.8,!=1.8.1,<1.9.0,>=1.7.4 in /home/tomvanilla/.pyenv/versions/3.8.12/envs/SERPvenv/lib/python3.8/site-packages (from spacy<4.0.0,>=3.1.3->spacy-transformers) (1.8.2)\n",
      "Requirement already satisfied: numpy>=1.15.0 in /home/tomvanilla/.pyenv/versions/3.8.12/envs/SERPvenv/lib/python3.8/site-packages (from spacy<4.0.0,>=3.1.3->spacy-transformers) (1.22.4)\n",
      "Requirement already satisfied: spacy-loggers<2.0.0,>=1.0.0 in /home/tomvanilla/.pyenv/versions/3.8.12/envs/SERPvenv/lib/python3.8/site-packages (from spacy<4.0.0,>=3.1.3->spacy-transformers) (1.0.2)\n",
      "Requirement already satisfied: catalogue<2.1.0,>=2.0.6 in /home/tomvanilla/.pyenv/versions/3.8.12/envs/SERPvenv/lib/python3.8/site-packages (from spacy<4.0.0,>=3.1.3->spacy-transformers) (2.0.7)\n",
      "Requirement already satisfied: setuptools in /home/tomvanilla/.pyenv/versions/3.8.12/envs/SERPvenv/lib/python3.8/site-packages (from spacy<4.0.0,>=3.1.3->spacy-transformers) (56.0.0)\n",
      "Requirement already satisfied: cymem<2.1.0,>=2.0.2 in /home/tomvanilla/.pyenv/versions/3.8.12/envs/SERPvenv/lib/python3.8/site-packages (from spacy<4.0.0,>=3.1.3->spacy-transformers) (2.0.6)\n",
      "Requirement already satisfied: blis<0.8.0,>=0.4.0 in /home/tomvanilla/.pyenv/versions/3.8.12/envs/SERPvenv/lib/python3.8/site-packages (from spacy<4.0.0,>=3.1.3->spacy-transformers) (0.7.7)\n",
      "Requirement already satisfied: typing-extensions in /home/tomvanilla/.pyenv/versions/3.8.12/envs/SERPvenv/lib/python3.8/site-packages (from torch>=1.6.0->spacy-transformers) (4.2.0)\n",
      "Requirement already satisfied: sacremoses in /home/tomvanilla/.pyenv/versions/3.8.12/envs/SERPvenv/lib/python3.8/site-packages (from transformers<4.18.0,>=3.4.0->spacy-transformers) (0.0.53)\n",
      "Requirement already satisfied: filelock in /home/tomvanilla/.pyenv/versions/3.8.12/envs/SERPvenv/lib/python3.8/site-packages (from transformers<4.18.0,>=3.4.0->spacy-transformers) (3.7.0)\n",
      "Requirement already satisfied: huggingface-hub<1.0,>=0.1.0 in /home/tomvanilla/.pyenv/versions/3.8.12/envs/SERPvenv/lib/python3.8/site-packages (from transformers<4.18.0,>=3.4.0->spacy-transformers) (0.7.0)\n",
      "Requirement already satisfied: tokenizers!=0.11.3,>=0.11.1 in /home/tomvanilla/.pyenv/versions/3.8.12/envs/SERPvenv/lib/python3.8/site-packages (from transformers<4.18.0,>=3.4.0->spacy-transformers) (0.12.1)\n",
      "Requirement already satisfied: pyyaml>=5.1 in /home/tomvanilla/.pyenv/versions/3.8.12/envs/SERPvenv/lib/python3.8/site-packages (from transformers<4.18.0,>=3.4.0->spacy-transformers) (6.0)\n",
      "Requirement already satisfied: regex!=2019.12.17 in /home/tomvanilla/.pyenv/versions/3.8.12/envs/SERPvenv/lib/python3.8/site-packages (from transformers<4.18.0,>=3.4.0->spacy-transformers) (2022.4.24)\n",
      "Requirement already satisfied: pyparsing!=3.0.5,>=2.0.2 in /home/tomvanilla/.pyenv/versions/3.8.12/envs/SERPvenv/lib/python3.8/site-packages (from packaging>=20.0->spacy<4.0.0,>=3.1.3->spacy-transformers) (3.0.9)\n",
      "Requirement already satisfied: smart-open<6.0.0,>=5.0.0 in /home/tomvanilla/.pyenv/versions/3.8.12/envs/SERPvenv/lib/python3.8/site-packages (from pathy>=0.3.5->spacy<4.0.0,>=3.1.3->spacy-transformers) (5.2.1)\n",
      "Requirement already satisfied: certifi>=2017.4.17 in /home/tomvanilla/.pyenv/versions/3.8.12/envs/SERPvenv/lib/python3.8/site-packages (from requests<3.0.0,>=2.13.0->spacy<4.0.0,>=3.1.3->spacy-transformers) (2022.5.18.1)\n",
      "Requirement already satisfied: urllib3<1.27,>=1.21.1 in /home/tomvanilla/.pyenv/versions/3.8.12/envs/SERPvenv/lib/python3.8/site-packages (from requests<3.0.0,>=2.13.0->spacy<4.0.0,>=3.1.3->spacy-transformers) (1.26.9)\n",
      "Requirement already satisfied: charset-normalizer~=2.0.0 in /home/tomvanilla/.pyenv/versions/3.8.12/envs/SERPvenv/lib/python3.8/site-packages (from requests<3.0.0,>=2.13.0->spacy<4.0.0,>=3.1.3->spacy-transformers) (2.0.12)\n",
      "Requirement already satisfied: idna<4,>=2.5 in /home/tomvanilla/.pyenv/versions/3.8.12/envs/SERPvenv/lib/python3.8/site-packages (from requests<3.0.0,>=2.13.0->spacy<4.0.0,>=3.1.3->spacy-transformers) (3.3)\n",
      "Requirement already satisfied: click<9.0.0,>=7.1.1 in /home/tomvanilla/.pyenv/versions/3.8.12/envs/SERPvenv/lib/python3.8/site-packages (from typer<0.5.0,>=0.3.0->spacy<4.0.0,>=3.1.3->spacy-transformers) (8.0.4)\n",
      "Requirement already satisfied: MarkupSafe>=2.0 in /home/tomvanilla/.pyenv/versions/3.8.12/envs/SERPvenv/lib/python3.8/site-packages (from jinja2->spacy<4.0.0,>=3.1.3->spacy-transformers) (2.1.1)\n",
      "Requirement already satisfied: six in /home/tomvanilla/.pyenv/versions/3.8.12/envs/SERPvenv/lib/python3.8/site-packages (from sacremoses->transformers<4.18.0,>=3.4.0->spacy-transformers) (1.16.0)\n",
      "Requirement already satisfied: joblib in /home/tomvanilla/.pyenv/versions/3.8.12/envs/SERPvenv/lib/python3.8/site-packages (from sacremoses->transformers<4.18.0,>=3.4.0->spacy-transformers) (1.1.0)\n"
     ]
    }
   ],
   "source": [
    "from keybert import KeyBERT\n",
    "#!pip install spacy\n",
    "import spacy\n",
    "#!python -m spacy download en_core_web_trf\n",
    "!pip install spacy-transformers"
   ]
  },
  {
   "cell_type": "markdown",
   "id": "b81fbb26",
   "metadata": {},
   "source": [
    "## Model"
   ]
  },
  {
   "cell_type": "code",
   "execution_count": 2,
   "id": "1b7da0c0",
   "metadata": {},
   "outputs": [],
   "source": [
    "model = KeyBERT(model=\"distilbert-base-nli-mean-tokens\")"
   ]
  },
  {
   "cell_type": "markdown",
   "id": "d6b79ae5",
   "metadata": {},
   "source": [
    "## Input"
   ]
  },
  {
   "cell_type": "code",
   "execution_count": 2,
   "id": "1f069d4f",
   "metadata": {},
   "outputs": [],
   "source": [
    "doc1 = \"Yoga mats (also called sticky mats) are used in most yoga classes to provide cushioning and traction. While you can usually rent a mat at a ...\"\n",
    "doc2 = \"Plan for retirement, learn how to invest, and more. Access our investor education resources to get started or further develop your investing and trading strategies.\"\n",
    "doc3 = \"Computer Desk With Hutch And Bookshelf, 47 Inches Home Office Desk With Space Saving Design For Small Spaces (Dark Walnut) Inbox Zero Color\"\n",
    "doc4 = \"This is a list of sentences. Do some have rethoric questions? I don't know... This is a sentence about yoga mats though!\""
   ]
  },
  {
   "cell_type": "markdown",
   "id": "4a5ceeb0",
   "metadata": {},
   "source": [
    "## Output"
   ]
  },
  {
   "cell_type": "code",
   "execution_count": 4,
   "id": "51c90743",
   "metadata": {
    "scrolled": true
   },
   "outputs": [
    {
     "data": {
      "text/plain": [
       "[('yoga mats', 0.5897),\n",
       " ('yoga classes', 0.5886),\n",
       " ('used yoga', 0.4376),\n",
       " ('yoga', 0.4116),\n",
       " ('sticky mats', 0.3777),\n",
       " ('mats used', 0.3537),\n",
       " ('cushioning traction', 0.2746),\n",
       " ('classes provide', 0.2717),\n",
       " ('provide cushioning', 0.2704),\n",
       " ('traction usually', 0.2512)]"
      ]
     },
     "execution_count": 4,
     "metadata": {},
     "output_type": "execute_result"
    }
   ],
   "source": [
    "output1 = model.extract_keywords(doc1, top_n=10, keyphrase_ngram_range=(1, 2), use_maxsum = False, stop_words=\"english\", use_mmr=False, diversity=0.9)\n",
    "output1"
   ]
  },
  {
   "cell_type": "code",
   "execution_count": 5,
   "id": "ddc11cfc",
   "metadata": {
    "scrolled": true
   },
   "outputs": [
    {
     "data": {
      "text/plain": [
       "[('investor education', 0.5795),\n",
       " ('develop investing', 0.5221),\n",
       " ('investing trading', 0.5068),\n",
       " ('plan retirement', 0.4869),\n",
       " ('retirement learn', 0.4866),\n",
       " ('trading strategies', 0.4255),\n",
       " ('learn invest', 0.4131),\n",
       " ('investing', 0.382),\n",
       " ('access investor', 0.3806),\n",
       " ('education resources', 0.3363)]"
      ]
     },
     "execution_count": 5,
     "metadata": {},
     "output_type": "execute_result"
    }
   ],
   "source": [
    "output2 = model.extract_keywords(doc2, top_n=10, keyphrase_ngram_range=(1, 2), stop_words=\"english\")\n",
    "output2"
   ]
  },
  {
   "cell_type": "code",
   "execution_count": 6,
   "id": "479963d5",
   "metadata": {
    "scrolled": true
   },
   "outputs": [
    {
     "data": {
      "text/plain": [
       "[('computer desk', 0.5546),\n",
       " ('office desk', 0.5493),\n",
       " ('desk hutch', 0.4791),\n",
       " ('desk space', 0.4788),\n",
       " ('desk', 0.4281),\n",
       " ('walnut inbox', 0.4236),\n",
       " ('dark walnut', 0.4195),\n",
       " ('hutch bookshelf', 0.3808),\n",
       " ('bookshelf', 0.3786),\n",
       " ('bookshelf 47', 0.378)]"
      ]
     },
     "execution_count": 6,
     "metadata": {},
     "output_type": "execute_result"
    }
   ],
   "source": [
    "output3 = model.extract_keywords(doc3, top_n=10, keyphrase_ngram_range=(1, 2), stop_words=\"english\")\n",
    "output3"
   ]
  },
  {
   "cell_type": "markdown",
   "id": "02b069f6",
   "metadata": {},
   "source": [
    "## Keybert & spaCy"
   ]
  },
  {
   "cell_type": "code",
   "execution_count": 9,
   "id": "1439aacd",
   "metadata": {},
   "outputs": [
    {
     "data": {
      "text/plain": [
       "[('classes provide', 0.8944),\n",
       " ('sticky mats', 0.8909),\n",
       " ('rent mat', 0.8902),\n",
       " ('traction', 0.888),\n",
       " ('called', 0.8874),\n",
       " ('used', 0.8871),\n",
       " ('provide cushioning', 0.8866),\n",
       " ('called sticky', 0.8864),\n",
       " ('yoga mats', 0.8862),\n",
       " ('mats used', 0.8848)]"
      ]
     },
     "execution_count": 9,
     "metadata": {},
     "output_type": "execute_result"
    }
   ],
   "source": [
    "spacy.prefer_gpu()\n",
    "nlp = spacy.load(\"en_core_web_trf\", exclude=['tagger', 'parser', 'ner', 'attribute_ruler', 'lemmatizer'])\n",
    "nlp.add_pipe('sentencizer')\n",
    "\n",
    "kw_model = KeyBERT(model=nlp)\n",
    "kw_model.extract_keywords(doc1, top_n=10, keyphrase_ngram_range=(1, 2))"
   ]
  },
  {
   "cell_type": "markdown",
   "id": "e9c93bd7",
   "metadata": {},
   "source": [
    "## Filtering out just 1 sentence"
   ]
  },
  {
   "cell_type": "code",
   "execution_count": 14,
   "id": "2cad7ba9",
   "metadata": {
    "scrolled": true
   },
   "outputs": [
    {
     "data": {
      "text/plain": [
       "[This is a list of sentences.,\n",
       " Do some have rethoric questions?,\n",
       " I don't know... This is a sentence about yoga mats though!]"
      ]
     },
     "execution_count": 14,
     "metadata": {},
     "output_type": "execute_result"
    }
   ],
   "source": [
    "nlp_phrases"
   ]
  },
  {
   "cell_type": "code",
   "execution_count": 36,
   "id": "cd703b0d",
   "metadata": {},
   "outputs": [],
   "source": [
    "MAX_CHARS = 300 #officially its up to 320\n",
    "\n",
    "\n",
    "def choose_best_sentence(text):\n",
    "    nlp_phrases =[sent for sent in nlp(text).sents]\n",
    "    phrases = [str(sent) for sent in nlp_phrases]\n",
    "    longest_sent = max(nlp_phrases, key=len)\n",
    "    #for sent in nlp_phrases:\n",
    "        #print(len(sent.text))\n",
    "    return longest_sent"
   ]
  },
  {
   "cell_type": "code",
   "execution_count": 37,
   "id": "0c13dea8",
   "metadata": {},
   "outputs": [
    {
     "data": {
      "text/plain": [
       "I don't know... This is a sentence about yoga mats though!"
      ]
     },
     "execution_count": 37,
     "metadata": {},
     "output_type": "execute_result"
    }
   ],
   "source": [
    "choose_best_sentence(doc4)"
   ]
  }
 ],
 "metadata": {
  "kernelspec": {
   "display_name": "Python 3 (ipykernel)",
   "language": "python",
   "name": "python3"
  },
  "language_info": {
   "codemirror_mode": {
    "name": "ipython",
    "version": 3
   },
   "file_extension": ".py",
   "mimetype": "text/x-python",
   "name": "python",
   "nbconvert_exporter": "python",
   "pygments_lexer": "ipython3",
   "version": "3.8.12"
  },
  "toc": {
   "base_numbering": 1,
   "nav_menu": {},
   "number_sections": true,
   "sideBar": true,
   "skip_h1_title": false,
   "title_cell": "Table of Contents",
   "title_sidebar": "Contents",
   "toc_cell": false,
   "toc_position": {},
   "toc_section_display": true,
   "toc_window_display": false
  }
 },
 "nbformat": 4,
 "nbformat_minor": 5
}
