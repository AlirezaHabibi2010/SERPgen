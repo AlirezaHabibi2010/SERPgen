{
 "cells": [
  {
   "cell_type": "code",
   "execution_count": 3,
   "metadata": {},
   "outputs": [],
   "source": [
    "from keytotext import pipeline\n",
    "preTrainedModel=\"mrm8488/t5-base-finetuned-common_gen\"\n",
    "nlp = pipeline(preTrainedModel)"
   ]
  },
  {
   "cell_type": "code",
   "execution_count": 4,
   "metadata": {},
   "outputs": [
    {
     "data": {
      "text/plain": [
       "'food for a wedding in india'"
      ]
     },
     "execution_count": 4,
     "metadata": {},
     "output_type": "execute_result"
    }
   ],
   "source": [
    "nlp(['India','wedding','Food'])"
   ]
  },
  {
   "cell_type": "code",
   "execution_count": 6,
   "metadata": {},
   "outputs": [],
   "source": [
    "from keytotext import make_dataset\n",
    "\n",
    "train_df = make_dataset('common_gen', split='train')\n",
    "test_df = make_dataset('common_gen', split='test')\n",
    "\n"
   ]
  },
  {
   "cell_type": "code",
   "execution_count": 7,
   "metadata": {},
   "outputs": [],
   "source": [
    "from keytotext import trainer\n",
    "model = trainer()\n",
    "model.from_pretrained(model_name=preTrainedModel)\n",
    "#model.train(train_df=train_df[:100], test_df=test_df[:50], batch_size=2, max_epochs=3,use_gpu=False)\n",
    "model.save_model()"
   ]
  },
  {
   "cell_type": "code",
   "execution_count": null,
   "metadata": {},
   "outputs": [],
   "source": [
    "model.load_model( model_dir=\"model\",use_gpu=True)\n",
    "\n",
    "keywords=[\"ski\", \"mountain\", \"sky\"]\n",
    "model.predict(keywords,use_gpu=True)"
   ]
  }
 ],
 "metadata": {
  "interpreter": {
   "hash": "f8604e1ab2e88bbeafdac5e725dba9391eb49176918c092d921a418903748df4"
  },
  "kernelspec": {
   "display_name": "Python 3.8.12 64-bit ('SERPgen')",
   "language": "python",
   "name": "python3"
  },
  "language_info": {
   "codemirror_mode": {
    "name": "ipython",
    "version": 3
   },
   "file_extension": ".py",
   "mimetype": "text/x-python",
   "name": "python",
   "nbconvert_exporter": "python",
   "pygments_lexer": "ipython3",
   "version": "3.8.12"
  },
  "orig_nbformat": 4
 },
 "nbformat": 4,
 "nbformat_minor": 2
}
